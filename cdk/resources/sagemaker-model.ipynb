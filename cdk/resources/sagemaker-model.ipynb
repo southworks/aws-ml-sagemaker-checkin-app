{
 "cells": [
  {
   "cell_type": "markdown",
   "source": [
    "# Upload model to S3"
   ],
   "metadata": {
    "collapsed": false,
    "pycharm": {
     "name": "#%% md\n"
    }
   }
  },
  {
   "cell_type": "code",
   "execution_count": null,
   "outputs": [],
   "source": [
    "%%bash\n",
    "\n",
    "# [TBC] Replace with published repository url.\n",
    "wget https://github.com/southworks/aws-data-ai-checkin-app-v3/cdk/resources/model.tar.gz"
   ],
   "metadata": {
    "collapsed": false,
    "pycharm": {
     "name": "#%%\n"
    }
   }
  },
  {
   "cell_type": "code",
   "execution_count": null,
   "outputs": [],
   "source": [
    "from sagemaker import s3\n",
    "\n",
    "bucket = 'your-own-bucket'\n",
    "\n",
    "s3.S3Uploader.upload('model.tar.gz', f's3://{bucket}/blazing-text/')"
   ],
   "metadata": {
    "collapsed": false,
    "pycharm": {
     "name": "#%%\n"
    }
   }
  }
 ],
 "metadata": {
  "kernelspec": {
   "display_name": "Python 3",
   "language": "python",
   "name": "python3"
  },
  "language_info": {
   "codemirror_mode": {
    "name": "ipython",
    "version": 2
   },
   "file_extension": ".py",
   "mimetype": "text/x-python",
   "name": "python",
   "nbconvert_exporter": "python",
   "pygments_lexer": "ipython2",
   "version": "2.7.6"
  }
 },
 "nbformat": 4,
 "nbformat_minor": 0
}