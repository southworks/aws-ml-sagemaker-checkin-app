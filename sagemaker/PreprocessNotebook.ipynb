{
 "cells": [
  {
   "cell_type": "code",
   "execution_count": 1,
   "metadata": {},
   "outputs": [
    {
     "name": "stderr",
     "output_type": "stream",
     "text": [
      "[nltk_data] Downloading package wordnet to /home/ec2-user/nltk_data...\n",
      "[nltk_data]   Package wordnet is already up-to-date!\n",
      "[nltk_data] Downloading package stopwords to\n",
      "[nltk_data]     /home/ec2-user/nltk_data...\n",
      "[nltk_data]   Package stopwords is already up-to-date!\n",
      "[nltk_data] Downloading package punkt to /home/ec2-user/nltk_data...\n",
      "[nltk_data]   Package punkt is already up-to-date!\n"
     ]
    }
   ],
   "source": [
    "import re\n",
    "import pickle\n",
    "import numpy as np\n",
    "import pandas as pd\n",
    "import time\n",
    "import os\n",
    "from math import floor\n",
    "from html import unescape\n",
    "\n",
    "# nltk\n",
    "from nltk.corpus import stopwords\n",
    "from nltk.tokenize import word_tokenize  \n",
    "from nltk.stem import PorterStemmer, WordNetLemmatizer\n",
    "import nltk\n",
    "nltk.download('wordnet')\n",
    "nltk.download('stopwords')\n",
    "nltk.download('punkt')\n",
    "\n",
    "from sklearn.model_selection import train_test_split\n",
    "from sklearn.feature_extraction.text import CountVectorizer"
   ]
  },
  {
   "cell_type": "code",
   "execution_count": null,
   "metadata": {},
   "outputs": [],
   "source": [
    "!pip install kaggle"
   ]
  },
  {
   "cell_type": "code",
   "execution_count": 3,
   "metadata": {},
   "outputs": [
    {
     "name": "stdout",
     "output_type": "stream",
     "text": [
      "usage: kaggle [-h] [-v] {competitions,c,datasets,d,kernels,k,config} ...\n",
      "\n",
      "optional arguments:\n",
      "  -h, --help            show this help message and exit\n",
      "  -v, --version         show program's version number and exit\n",
      "\n",
      "commands:\n",
      "  {competitions,c,datasets,d,kernels,k,config}\n",
      "                        Use one of:\n",
      "                        competitions {list, files, download, submit, submissions, leaderboard}\n",
      "                        datasets {list, files, download, create, version, init, metadata, status}\n",
      "                        config {view, set, unset}\n",
      "    competitions (c)    Commands related to Kaggle competitions\n",
      "    datasets (d)        Commands related to Kaggle datasets\n",
      "    kernels (k)         Commands related to Kaggle kernels\n",
      "    config              Configuration settings\n"
     ]
    }
   ],
   "source": [
    "# copy your kaggle.json to home (kaggle api private key: https://www.kaggle.com/docs/api#authentication)\n",
    "!cp kaggle.json ~/.kaggle/\n",
    "!chmod 600 ~/.kaggle/kaggle.json\n",
    "!kaggle -h"
   ]
  },
  {
   "cell_type": "code",
   "execution_count": 4,
   "metadata": {},
   "outputs": [
    {
     "name": "stdout",
     "output_type": "stream",
     "text": [
      "Downloading sentiment140.zip to /home/ec2-user/SageMaker/samarkand/medium-article/part-3/code/sagemaker\n",
      " 96%|████████████████████████████████████▋ | 78.0M/80.9M [00:02<00:00, 39.7MB/s]\n",
      "100%|██████████████████████████████████████| 80.9M/80.9M [00:02<00:00, 33.6MB/s]\n",
      "Archive:  sentiment140.zip\n",
      "  inflating: training.1600000.processed.noemoticon.csv  \n"
     ]
    }
   ],
   "source": [
    "# Install kaggle-api and set credentials: https://github.com/Kaggle/kaggle-api\n",
    "# Download 'Sentiment140' dataset with 1.6 million tweets from Kaggle\n",
    "# https://www.kaggle.com/kazanova/sentiment140?select=training.1600000.processed.noemoticon.csv\n",
    "\n",
    "!kaggle datasets download kazanova/sentiment140 --force\n",
    "!unzip -o sentiment140.zip\n",
    "!rm sentiment140.zip\n",
    "!mv training.1600000.processed.noemoticon.csv data/"
   ]
  },
  {
   "cell_type": "code",
   "execution_count": 5,
   "metadata": {},
   "outputs": [],
   "source": [
    "english_stop_words = set(stopwords.words('english'))\n",
    "\n",
    "# Create Lemmatizer and Stemmer.\n",
    "ps = PorterStemmer()\n",
    "lemmatizer = WordNetLemmatizer()"
   ]
  },
  {
   "cell_type": "code",
   "execution_count": 6,
   "metadata": {},
   "outputs": [],
   "source": [
    "#Variables\n",
    "percentage_of_dataset = 10\n",
    "test_size = 0.3"
   ]
  },
  {
   "cell_type": "code",
   "execution_count": 8,
   "metadata": {},
   "outputs": [],
   "source": [
    "DATASET_FILE = 'data/training.1600000.processed.noemoticon.csv'\n",
    "DATASET_COLUMNS  = [\"sentiment\", \"ids\", \"date\", \"flag\", \"user\", \"text\"]\n",
    "DATASET_ENCODING = \"ISO-8859-1\"\n",
    "dataset = pd.read_csv(DATASET_FILE, encoding=DATASET_ENCODING , names=DATASET_COLUMNS)"
   ]
  },
  {
   "cell_type": "code",
   "execution_count": 9,
   "metadata": {},
   "outputs": [],
   "source": [
    "# Removing the unnecessary columns.\n",
    "dataset = dataset[['sentiment','text']]\n",
    "\n",
    "# Replacing the values to ease understanding 0:Negative | 1:Positive.\n",
    "dataset['sentiment'] = dataset['sentiment'].replace(4,1)\n",
    "\n",
    "#Shufle Dataset\n",
    "origin_dataset = dataset.sample(frac=1)"
   ]
  },
  {
   "cell_type": "code",
   "execution_count": 10,
   "metadata": {},
   "outputs": [],
   "source": [
    "def reduce_dataset(data,size):\n",
    "    dataset_to_return = pd.DataFrame(columns=['sentiment', 'text'])\n",
    "    dataset_len = len(data)+1\n",
    "    print(f'dataset_len: {dataset_len}')\n",
    "    quantity_of_each = floor(dataset_len*(size/2)/100)\n",
    "    print(f'quantity_of_each: {quantity_of_each}')\n",
    "    print(f'quantity Of reduced Dataset: {quantity_of_each*2}')\n",
    "    \n",
    "    def sampling_k_elements(group, k=quantity_of_each):\n",
    "        if len(group) < k:\n",
    "            return group\n",
    "        return group.sample(k)\n",
    "\n",
    "    dataset_to_return = data.groupby('sentiment').apply(sampling_k_elements).reset_index(drop=True)\n",
    "    print(dataset_to_return)\n",
    "    \n",
    "    return dataset_to_return"
   ]
  },
  {
   "cell_type": "code",
   "execution_count": 11,
   "metadata": {},
   "outputs": [
    {
     "name": "stdout",
     "output_type": "stream",
     "text": [
      "dataset_len: 1600001\n",
      "quantity_of_each: 80000\n",
      "quantity Of reduced Dataset: 160000\n",
      "        sentiment                                               text\n",
      "0               0  what lovely rainy, grey cold weather we have t...\n",
      "1               0  might go to the pool... except my back hurts. ...\n",
      "2               0  @SamNiley11 WHAAAAAT? I HATE ALOHA FROM HELL! ...\n",
      "3               0                                I just got dumped. \n",
      "4               0                    @drownatlantis  don't say that!\n",
      "...           ...                                                ...\n",
      "159995          1  New iPhone ? http://tinyurl.com/mf8z6f Looks l...\n",
      "159996          1  @mileycyrus http://twitpic.com/5r808 - wooowww...\n",
      "159997          1  @cocolee117 do u have more info on the concert...\n",
      "159998          1  @epeloke That would be, in the words of someon...\n",
      "159999          1   Don't forget to vote on me.  http://bit.ly/fkQFx\n",
      "\n",
      "[160000 rows x 2 columns]\n"
     ]
    }
   ],
   "source": [
    "dataset = reduce_dataset(origin_dataset, percentage_of_dataset)"
   ]
  },
  {
   "cell_type": "code",
   "execution_count": 12,
   "metadata": {},
   "outputs": [
    {
     "name": "stdout",
     "output_type": "stream",
     "text": [
      "            text\n",
      "sentiment       \n",
      "0          80000\n",
      "1          80000\n"
     ]
    },
    {
     "data": {
      "image/png": "[encoded data removed]",
      "text/plain": [
       "<Figure size 432x288 with 1 Axes>"
      ]
     },
     "metadata": {
      "needs_background": "light"
     },
     "output_type": "display_data"
    }
   ],
   "source": [
    "# Plotting the distribution for dataset.\n",
    "print(dataset.groupby('sentiment').count())\n",
    "ax = dataset.groupby('sentiment').count().plot(kind='bar', title='Distribution of data',legend=False)\n",
    "ax.set_xticklabels(['Negative','Positive'], rotation=0)\n",
    "\n",
    "# Storing data in lists.\n",
    "text, sentiment = list(dataset['text']), list(dataset['sentiment'])"
   ]
  },
  {
   "cell_type": "code",
   "execution_count": 13,
   "metadata": {},
   "outputs": [],
   "source": [
    "# Defining dictionary containing all emojis with their meanings.\n",
    "emojis = {':)': 'smile', ':-)': 'smile', ';d': 'wink', ':-E': 'vampire', ':(': 'sad', \n",
    "          ':-(': 'sad', ':-<': 'sad', ':P': 'raspberry', ':O': 'surprised',\n",
    "          ':-@': 'shocked', ':@': 'shocked',':-$': 'confused', ':\\\\': 'annoyed', \n",
    "          ':#': 'mute', ':X': 'mute', ':^)': 'smile', ':-&': 'confused', '$_$': 'greedy',\n",
    "          '@@': 'eyeroll', ':-!': 'confused', ':-D': 'smile', ':-0': 'yell', 'O.o': 'confused',\n",
    "          '<(-_-)>': 'robot', 'd[-_-]b': 'dj', \":'-)\": 'sadsmile', ';)': 'wink', \n",
    "          ';-)': 'wink', 'O:-)': 'angel','O*-)': 'angel','(:-D': 'gossip', '=^.^=': 'cat', \n",
    "          '&lt;3': 'heart', '<3': 'heart'}\n",
    "\n",
    "\"\"\"\n",
    "textdata: [string] => collection of sentences to be preprocessed\n",
    "sentiments: [string] => collection of positives/negatives\n",
    "mode: string => parameter to indicate mode of converting data (L=lemmatized | S=stemmed text | N=None)\n",
    "\"\"\"\n",
    "def preprocess(textdata, sentiments, mode, remove_stopwords = False):\n",
    "    processed_text = []\n",
    "    \n",
    "    # Defining regex patterns.\n",
    "    url_pattern        = r\"((http://)[^ ]*|(https://)[^ ]*|( www\\.)[^ ]*)\"\n",
    "    user_pattern       = '@[^\\s]+'\n",
    "    alpha_pattern      = \"[^a-zA-Z0-9]\"\n",
    "    sequence_pattern   = r\"(.)\\1\\1+\"\n",
    "    seq_replace_pattern = r\"\\1\\1\"\n",
    "    \n",
    "    for i in range(len(textdata)):\n",
    "        tweet = textdata[i]\n",
    "        #Lower casing\n",
    "        tweet = tweet.lower()\n",
    "        \n",
    "        # Remove all URls \n",
    "        tweet = re.sub(url_pattern,'',tweet)\n",
    "        \n",
    "        # Replace all emojis.\n",
    "        for emoji in emojis.keys():\n",
    "            tweet = tweet.replace(emoji, \" EMOJI\" + emojis[emoji])\n",
    "            \n",
    "        # Replace @USERNAME to ' '.\n",
    "        tweet = re.sub(user_pattern,' ', tweet)\n",
    "        \n",
    "        # Remove word &quot; &amp; &gt; &lt; and others\n",
    "        tweet = unescape(tweet)\n",
    "        \n",
    "        # Replace all non alphabets.\n",
    "        tweet = re.sub(alpha_pattern, \" \", tweet)\n",
    "\n",
    "        # Replace 3 or more consecutive letters by 2 letter.\n",
    "        tweet = re.sub(sequence_pattern, seq_replace_pattern, tweet)  \n",
    "\n",
    "        word_tokens = word_tokenize(tweet)\n",
    "\n",
    "        #Removing english stopwords.\n",
    "        if remove_stopwords == True:\n",
    "            filtered_sentence = [w for w in word_tokens if not w in english_stop_words]\n",
    "        else:\n",
    "            filtered_sentence = [w for w in word_tokens]\n",
    "            \n",
    "        if mode == 'L':\n",
    "            #Lemmatization\n",
    "            final_sentence = [lemmatizer.lemmatize(w) for w in filtered_sentence]\n",
    "        elif mode == 'S':\n",
    "            #Stemming\n",
    "            final_sentence = [ps.stem(w) for w in filtered_sentence]\n",
    "        else:\n",
    "            #None\n",
    "            final_sentence = filtered_sentence\n",
    "            \n",
    "        sentence = ' '.join(final_sentence)\n",
    "            \n",
    "        if len(filtered_sentence) == 0:\n",
    "            newSample = origin_dataset[origin_dataset.sentiment == sentiments[i]].sample(1)\n",
    "            newSampleList = list(newSample['text'])\n",
    "            sentence = preprocess(newSampleList, sentiments, mode)[0]\n",
    "            \n",
    "        processed_text.append(sentence)\n",
    "        \n",
    "    return processed_text"
   ]
  },
  {
   "cell_type": "code",
   "execution_count": 14,
   "metadata": {},
   "outputs": [
    {
     "name": "stdout",
     "output_type": "stream",
     "text": [
      "Text Preprocessing complete. Time Taken: 65 seconds\n"
     ]
    },
    {
     "data": {
      "text/html": [
       "<div>\n",
       "<style scoped>\n",
       "    .dataframe tbody tr th:only-of-type {\n",
       "        vertical-align: middle;\n",
       "    }\n",
       "\n",
       "    .dataframe tbody tr th {\n",
       "        vertical-align: top;\n",
       "    }\n",
       "\n",
       "    .dataframe thead th {\n",
       "        text-align: right;\n",
       "    }\n",
       "</style>\n",
       "<table border=\"1\" class=\"dataframe\">\n",
       "  <thead>\n",
       "    <tr style=\"text-align: right;\">\n",
       "      <th></th>\n",
       "      <th>sentiment</th>\n",
       "      <th>text</th>\n",
       "    </tr>\n",
       "  </thead>\n",
       "  <tbody>\n",
       "    <tr>\n",
       "      <th>0</th>\n",
       "      <td>0</td>\n",
       "      <td>what lovely rainy grey cold weather we have today</td>\n",
       "    </tr>\n",
       "    <tr>\n",
       "      <th>1</th>\n",
       "      <td>0</td>\n",
       "      <td>might go to the pool except my back hurts coul...</td>\n",
       "    </tr>\n",
       "    <tr>\n",
       "      <th>2</th>\n",
       "      <td>0</td>\n",
       "      <td>whaat i hate aloha from hell i want mitchel EM...</td>\n",
       "    </tr>\n",
       "    <tr>\n",
       "      <th>3</th>\n",
       "      <td>0</td>\n",
       "      <td>i just got dumped</td>\n",
       "    </tr>\n",
       "    <tr>\n",
       "      <th>4</th>\n",
       "      <td>0</td>\n",
       "      <td>don t say that</td>\n",
       "    </tr>\n",
       "    <tr>\n",
       "      <th>...</th>\n",
       "      <td>...</td>\n",
       "      <td>...</td>\n",
       "    </tr>\n",
       "    <tr>\n",
       "      <th>159995</th>\n",
       "      <td>1</td>\n",
       "      <td>new iphone looks like a lot to the current iph...</td>\n",
       "    </tr>\n",
       "    <tr>\n",
       "      <th>159996</th>\n",
       "      <td>1</td>\n",
       "      <td>wooww you are so cutee i love you and</td>\n",
       "    </tr>\n",
       "    <tr>\n",
       "      <th>159997</th>\n",
       "      <td>1</td>\n",
       "      <td>do u have more info on the concert in la is it...</td>\n",
       "    </tr>\n",
       "    <tr>\n",
       "      <th>159998</th>\n",
       "      <td>1</td>\n",
       "      <td>that would be in the words of someone hot espe...</td>\n",
       "    </tr>\n",
       "    <tr>\n",
       "      <th>159999</th>\n",
       "      <td>1</td>\n",
       "      <td>don t forget to vote on me</td>\n",
       "    </tr>\n",
       "  </tbody>\n",
       "</table>\n",
       "<p>160000 rows × 2 columns</p>\n",
       "</div>"
      ],
      "text/plain": [
       "        sentiment                                               text\n",
       "0               0  what lovely rainy grey cold weather we have today\n",
       "1               0  might go to the pool except my back hurts coul...\n",
       "2               0  whaat i hate aloha from hell i want mitchel EM...\n",
       "3               0                                  i just got dumped\n",
       "4               0                                     don t say that\n",
       "...           ...                                                ...\n",
       "159995          1  new iphone looks like a lot to the current iph...\n",
       "159996          1              wooww you are so cutee i love you and\n",
       "159997          1  do u have more info on the concert in la is it...\n",
       "159998          1  that would be in the words of someone hot espe...\n",
       "159999          1                         don t forget to vote on me\n",
       "\n",
       "[160000 rows x 2 columns]"
      ]
     },
     "execution_count": 14,
     "metadata": {},
     "output_type": "execute_result"
    }
   ],
   "source": [
    "#Preprocess method\n",
    "t = time.time()\n",
    "processed_text = preprocess(text, sentiment, 'N', False)\n",
    "print(f'Text Preprocessing complete. Time Taken: {round(time.time()-t)} seconds')\n",
    "#Replace processed_text in dataset\n",
    "dataset['text'] = processed_text\n",
    "dataset"
   ]
  },
  {
   "cell_type": "code",
   "execution_count": 15,
   "metadata": {},
   "outputs": [
    {
     "name": "stdout",
     "output_type": "stream",
     "text": [
      "            text\n",
      "sentiment       \n",
      "0          80000\n",
      "1          80000\n"
     ]
    },
    {
     "data": {
      "text/plain": [
       "[Text(0, 0, 'Negative'), Text(1, 0, 'Positive')]"
      ]
     },
     "execution_count": 15,
     "metadata": {},
     "output_type": "execute_result"
    },
    {
     "data": {
      "image/png": "[encoded data removed]",
      "text/plain": [
       "<Figure size 432x288 with 1 Axes>"
      ]
     },
     "metadata": {
      "needs_background": "light"
     },
     "output_type": "display_data"
    }
   ],
   "source": [
    "# Plotting the distribution for dataset.\n",
    "print(dataset.groupby('sentiment').count())\n",
    "ax = dataset.groupby('sentiment').count().plot(kind='bar', title='Distribution of Data after preprocesed',legend=False)\n",
    "ax.set_xticklabels(['Negative','Positive'], rotation=0)"
   ]
  },
  {
   "cell_type": "code",
   "execution_count": 16,
   "metadata": {},
   "outputs": [],
   "source": [
    "#Split Dataset\n",
    "X_train, X_test, y_train, y_test = train_test_split(dataset['text'], dataset['sentiment'], test_size = test_size, stratify=dataset['sentiment'], shuffle=True)\n",
    "test_dataset = pd.DataFrame({'sentiment': y_test, 'text': X_test})\n",
    "train_dataset = pd.DataFrame({'sentiment': y_train, 'text': X_train})"
   ]
  },
  {
   "cell_type": "code",
   "execution_count": 17,
   "metadata": {},
   "outputs": [
    {
     "name": "stdout",
     "output_type": "stream",
     "text": [
      "            text\n",
      "sentiment       \n",
      "0          56000\n",
      "1          56000\n"
     ]
    },
    {
     "data": {
      "text/plain": [
       "[Text(0, 0, 'Negative'), Text(1, 0, 'Positive')]"
      ]
     },
     "execution_count": 17,
     "metadata": {},
     "output_type": "execute_result"
    },
    {
     "data": {
      "image/png": "[encoded data removed]",
      "text/plain": [
       "<Figure size 432x288 with 1 Axes>"
      ]
     },
     "metadata": {
      "needs_background": "light"
     },
     "output_type": "display_data"
    }
   ],
   "source": [
    "# Plotting the distribution for dataset.\n",
    "print(train_dataset.groupby('sentiment').count())\n",
    "ax = train_dataset.groupby('sentiment').count().plot(kind='bar', title='Distribution of Train Data',legend=False)\n",
    "ax.set_xticklabels(['Negative','Positive'], rotation=0)"
   ]
  },
  {
   "cell_type": "code",
   "execution_count": 18,
   "metadata": {},
   "outputs": [
    {
     "name": "stdout",
     "output_type": "stream",
     "text": [
      "            text\n",
      "sentiment       \n",
      "0          24000\n",
      "1          24000\n"
     ]
    },
    {
     "data": {
      "text/plain": [
       "[Text(0, 0, 'Negative'), Text(1, 0, 'Positive')]"
      ]
     },
     "execution_count": 18,
     "metadata": {},
     "output_type": "execute_result"
    },
    {
     "data": {
      "image/png": "[encoded data removed]",
      "text/plain": [
       "<Figure size 432x288 with 1 Axes>"
      ]
     },
     "metadata": {
      "needs_background": "light"
     },
     "output_type": "display_data"
    }
   ],
   "source": [
    "# Plotting the distribution for dataset.\n",
    "print(test_dataset.groupby('sentiment').count())\n",
    "ax = test_dataset.groupby('sentiment').count().plot(kind='bar', title='Distribution of Test Data',legend=False)\n",
    "ax.set_xticklabels(['Negative','Positive'], rotation=0)"
   ]
  },
  {
   "cell_type": "code",
   "execution_count": 19,
   "metadata": {},
   "outputs": [],
   "source": [
    "#Save the csv only with sentiment and text columns\n",
    "train_dataset.to_csv('data/preprocessed/sentiments-preprocessed-wo-lemmatizing-with-stopwords-train-10percent-dataset.csv', index=False, header=False)\n",
    "test_dataset.to_csv('data/preprocessed/sentiments-preprocessed-wo-lemmatizing-with-stopwords-test-10percent-dataset.csv', index=False, header=False)"
   ]
  },
  {
   "cell_type": "code",
   "execution_count": 28,
   "metadata": {},
   "outputs": [
    {
     "name": "stdout",
     "output_type": "stream",
     "text": [
      "Text Preprocessing complete. Time Taken: 118 seconds\n"
     ]
    }
   ],
   "source": [
    "#Preprocess again with Lemmatizing only\n",
    "t = time.time()\n",
    "processed_text = preprocess(text, sentiment, 'L', True)\n",
    "print(f'Text Preprocessing complete. Time Taken: {round(time.time()-t)} seconds')\n",
    "#Replace processed_text in dataset\n",
    "dataset['text'] = processed_text\n",
    "dataset\n",
    "\n",
    "#Save the csv only with sentiment and text columns\n",
    "train_dataset.to_csv('data/preprocessed/sentiments-preprocessed-lemmatizing-train-10percent-dataset.csv', index=False, header=False)\n",
    "test_dataset.to_csv('data/preprocessed/sentiments-preprocessed-lemmatizing-test-10percent-dataset.csv', index=False, header=False)"
   ]
  },
  {
   "cell_type": "code",
   "execution_count": 20,
   "metadata": {},
   "outputs": [
    {
     "data": {
      "text/plain": [
       "'s3://sagemaker-sa-east-1-343618571470/preprocessed'"
      ]
     },
     "execution_count": 20,
     "metadata": {},
     "output_type": "execute_result"
    }
   ],
   "source": [
    "import sagemaker\n",
    "sagemaker_session = sagemaker.Session()\n",
    "\n",
    "# Save to a common S3 bucket\n",
    "# Uou'll need the S3 bucket ARN later (copy it!)\n",
    "sagemaker_session.upload_data(\n",
    "    path=os.path.join('data','preprocessed'),\n",
    "    key_prefix='preprocessed')"
   ]
  }
 ],
 "metadata": {
  "instance_type": "ml.t3.medium",
  "kernelspec": {
   "display_name": "conda_chainer_p36",
   "language": "python",
   "name": "conda_chainer_p36"
  },
  "language_info": {
   "codemirror_mode": {
    "name": "ipython",
    "version": 3
   },
   "file_extension": ".py",
   "mimetype": "text/x-python",
   "name": "python",
   "nbconvert_exporter": "python",
   "pygments_lexer": "ipython3",
   "version": "3.6.13"
  }
 },
 "nbformat": 4,
 "nbformat_minor": 4
}