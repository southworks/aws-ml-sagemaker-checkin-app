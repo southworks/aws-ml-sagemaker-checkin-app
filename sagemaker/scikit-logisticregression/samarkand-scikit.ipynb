{
 "cells": [
  {
   "cell_type": "code",
   "execution_count": null,
   "id": "eee308b6",
   "metadata": {},
   "outputs": [],
   "source": [
    "import sagemaker\n",
    "from sagemaker import get_execution_role"
   ]
  },
  {
   "cell_type": "code",
   "execution_count": null,
   "id": "4a4d52b0",
   "metadata": {},
   "outputs": [],
   "source": [
    "sagemaker_session = sagemaker.Session()\n",
    "\n",
    "# Get a SageMaker-compatible role used by this Notebook Instance.\n",
    "role = get_execution_role()\n",
    "print(role)"
   ]
  },
  {
   "cell_type": "code",
   "execution_count": null,
   "id": "ad806b42",
   "metadata": {},
   "outputs": [],
   "source": [
    "from sagemaker.sklearn.estimator import SKLearn\n",
    "\n",
    "\n",
    "bucket = sagemaker_session.default_bucket()\n",
    "s3_train_file = 'preprocessed/sentiments-preprocessed-wo-lemmatizing-with-stopwords-train-10percent-dataset.csv'\n",
    "s3_test_file = 'preprocessed/sentiments-preprocessed-wo-lemmatizing-with-stopwords-test-10percent-dataset.csv'\n",
    "script_path = 'startup_logisticRegression_model.py'\n",
    "\n",
    "#Creates the SKLearn estimator\n",
    "sklearn = SKLearn(\n",
    "    framework_version='0.20.0',\n",
    "    source_dir=\"src\",\n",
    "    entry_point=script_path,\n",
    "    instance_type=\"ml.m5.xlarge\",\n",
    "    role=role,\n",
    "    sagemaker_session=sagemaker_session\n",
    ")"
   ]
  },
  {
   "cell_type": "code",
   "execution_count": null,
   "id": "8d9c3990",
   "metadata": {},
   "outputs": [],
   "source": [
    "#Start the training JOB in sagemaker\n",
    "sklearn.fit({'train': 's3://{}/{}'.format(bucket, s3_train_file),\n",
    "             'test': 's3://{}/{}'.format(bucket, s3_test_file)})"
   ]
  },
  {
   "cell_type": "code",
   "execution_count": null,
   "id": "36b6a4bb",
   "metadata": {},
   "outputs": [],
   "source": [
    "#Deploy model to an endpoint\n",
    "deployment = sklearn.deploy(initial_instance_count=1, instance_type=\"ml.t2.medium\")"
   ]
  },
  {
   "cell_type": "code",
   "execution_count": null,
   "id": "71ea6872",
   "metadata": {},
   "outputs": [],
   "source": [
    "import json\n",
    "\n",
    "words = [\"today is gonna be the day\"]\n",
    "payload = {\"sentiments\": words}\n",
    "\n",
    "response = deployment.predict(\n",
    "    json.dumps(payload), initial_args={\"ContentType\": \"application/json\", \"Accept\": \"application/json\"}\n",
    ")\n",
    "\n",
    "vecs = json.loads(response)\n",
    "print(vecs)"
   ]
  },
  {
   "cell_type": "code",
   "execution_count": null,
   "id": "8a829b2a",
   "metadata": {},
   "outputs": [],
   "source": [
    "# Delete endpoint\n",
    "deployment.delete_endpoint()"
   ]
  }
 ],
 "metadata": {
  "kernelspec": {
   "display_name": "conda_python3",
   "language": "python",
   "name": "conda_python3"
  },
  "language_info": {
   "codemirror_mode": {
    "name": "ipython",
    "version": 3
   },
   "file_extension": ".py",
   "mimetype": "text/x-python",
   "name": "python",
   "nbconvert_exporter": "python",
   "pygments_lexer": "ipython3",
   "version": "3.6.13"
  }
 },
 "nbformat": 4,
 "nbformat_minor": 5
}
